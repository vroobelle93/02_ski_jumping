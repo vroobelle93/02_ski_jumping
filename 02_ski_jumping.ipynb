{
 "cells": [
  {
   "cell_type": "code",
   "execution_count": 29,
   "metadata": {
    "collapsed": true
   },
   "outputs": [],
   "source": [
    "from tika import parser # pdf scraping\n",
    "\n",
    "import os\n",
    "import pandas as pd\n",
    "import re\n",
    "import sqlite3"
   ]
  },
  {
   "cell_type": "code",
   "execution_count": 34,
   "outputs": [],
   "source": [
    "pdf1 = parser.from_file('data_02_05/3011RL.pdf')\n",
    "pdf2 = parser.from_file('data_02_05/3010RL4.pdf')\n",
    "pdf3 = parser.from_file('data_02_05/2005JP3007RL.pdf')\n",
    "pdf4 = parser.from_file('data_02_05/2007JP3021RL.pdf')"
   ],
   "metadata": {
    "collapsed": false
   }
  },
  {
   "cell_type": "code",
   "execution_count": 3,
   "outputs": [],
   "source": [
    "def get_year(competition):\n",
    "    \"\"\"\n",
    "    Get year the competition was held\n",
    "    :param competition: competition data scraped from the pdf [dict]\n",
    "    :return: competition year [int]\n",
    "    \"\"\"\n",
    "\n",
    "    competition_text = competition['content']\n",
    "    year = int(re.search('20[0,1][0-9]', competition_text).group())\n",
    "\n",
    "    return year\n",
    "\n",
    "\n",
    "def get_jury(competition):\n",
    "    \"\"\"\n",
    "    Get a list of juries at the competition. It is returned as list of tuples containing judge name and his nationality.\n",
    "    :param competition: competition data scraped from the pdf [dict]\n",
    "    :return: list of lists (jury_name, nationality) [list]\n",
    "    \"\"\"\n",
    "\n",
    "    jury = []\n",
    "    competition_text = competition['content']\n",
    "    upper_boundary = '\\n\\nA '\n",
    "    # Line below finds where to the jury list begins and '-2' is to remain the A character for iteration\n",
    "    upper_trim = competition_text[competition_text.find(upper_boundary)+len(upper_boundary)-2 :]\n",
    "\n",
    "    # I have to iterate with A-E characters, as in some cases there are unexpected blank lines between particular judges\n",
    "    for letter in ['A', 'B', 'C', 'D', 'E']:\n",
    "        upper_trim = upper_trim[upper_trim.find(letter+' '):]\n",
    "        cut_line = upper_trim.split('\\n')[0]\n",
    "        nationality = cut_line[-3:]\n",
    "        judge_name = re.sub(',', '', cut_line[2: -4])\n",
    "        jury.append([judge_name, nationality])\n",
    "\n",
    "    assert len(jury) == 5, f'Invalid number of judges! Got {len(jury)}'\n",
    "\n",
    "    return jury\n",
    "\n",
    "\n",
    "def note_to_float(score):\n",
    "    '''\n",
    "    Convert note to float. Some of them contain dots and some contain comas, so change it if needed.\n",
    "    :param score: score [str]\n",
    "    :return: score [float]\n",
    "    '''\n",
    "\n",
    "    return float(re.sub(',', '.', score))\n",
    "\n",
    "\n",
    "def get_referenced_notes(score):\n",
    "    '''\n",
    "    Get difference between particular note and mean of notes of other judges\n",
    "    :param score: list of notes [list]\n",
    "    :return: list of differences [list]\n",
    "    '''\n",
    "\n",
    "    return [note - (sum(score)-note)/4 for note in score]\n",
    "\n",
    "\n",
    "def get_competition_scores(competition):\n",
    "    '''\n",
    "    Extract scores from the competition. If jumper took part in both rounds, append his jumps as two separate list elements.\n",
    "    :param competition: competition data scraped from the pdf [dict]\n",
    "    :return: list of lists containing [jumper_name, jumper_country, note_A, note_B, note_C, note_D, note_E] [list]\n",
    "    '''\n",
    "\n",
    "    competition_text = competition['content']\n",
    "\n",
    "    # Remove dots after place number, if they appear\n",
    "    competition_text = re.sub('[.] ', ' ', competition_text)\n",
    "\n",
    "    # Search for text fragments which match places pattern and split the text\n",
    "    # The pattern is as follows: two new line characters, one or zero spaces, one or zero digits [1-5], one digit [0-9], a space or a dot\n",
    "    competition_split = re.split(r'\\n\\n ?[1-5]?[0-9][. ]', competition_text)\n",
    "\n",
    "    scores = []\n",
    "\n",
    "    for place_fragment in competition_split[1:]:\n",
    "\n",
    "        # Remove blank lines in list elements containing place (sometimes they appear, and sometimes do not) and split fragment into lines\n",
    "        place_fragment = re.sub('\\n\\n', '\\n', place_fragment).splitlines()\n",
    "        # Get jumper name with no comas and country\n",
    "        jumper_name = re.sub(', ', ' ', place_fragment[1])\n",
    "        jumper_country = place_fragment[3].split()[0]\n",
    "        # Get first round notes\n",
    "        jumper_notes = [note_to_float(note) for note in place_fragment[4].split()[3:8]]\n",
    "        jumper_referenced_notes = get_referenced_notes(jumper_notes)\n",
    "        # Append first round notes\n",
    "        scores.append([jumper_name, jumper_country]+jumper_notes+jumper_referenced_notes)\n",
    "\n",
    "        # Check first character of first element of next line - if it is a digit, that means it also contains notes,\n",
    "        # which means jumper took part in final round. Append score as new list element\n",
    "        if len(place_fragment) > 5:\n",
    "            if place_fragment[5].split()[0][0].isdigit():\n",
    "                jumper_notes = [note_to_float(note) for note in place_fragment[5].split()[3:8]]\n",
    "                jumper_referenced_notes = get_referenced_notes(jumper_notes)\n",
    "                scores.append([jumper_name, jumper_country]+jumper_notes+jumper_referenced_notes)\n",
    "\n",
    "    return scores"
   ],
   "metadata": {
    "collapsed": false
   }
  },
  {
   "cell_type": "code",
   "execution_count": 12,
   "outputs": [
    {
     "name": "stdout",
     "output_type": "stream",
     "text": [
      "Scanning data/2005JP3007RL.pdf\n",
      "Jumps performed: 80\n",
      "Scanning data/2005JP3008RL.pdf\n",
      "Jumps performed: 80\n",
      "Scanning data/2005JP3012RL.pdf\n",
      "Jumps performed: 69\n",
      "Scanning data/2005JP3013RL.pdf\n",
      "Jumps performed: 70\n",
      "Scanning data/2005JP3019RL.pdf\n",
      "Jumps performed: 80\n",
      "Scanning data/2005JP3020RL.pdf\n",
      "Jumps performed: 80\n",
      "Scanning data/2005JP3025RL.pdf\n",
      "Jumps performed: 80\n",
      "Scanning data/2005JP3032RL.pdf\n",
      "Jumps performed: 79\n",
      "Scanning data/2005JP3033RL.pdf\n",
      "Jumps performed: 80\n",
      "Scanning data/2005JP3051RL.pdf\n",
      "Jumps performed: 80\n",
      "Scanning data/2005JP3052RL.pdf\n",
      "Jumps performed: 80\n",
      "Scanning data/2005JP3054RL.pdf\n",
      "Jumps performed: 80\n",
      "Scanning data/2005JP3055RL.pdf\n",
      "Jumps performed: 90\n",
      "Scanning data/2005JP3056RL.pdf\n",
      "Jumps performed: 80\n",
      "Scanning data/2005JP3078RL.pdf\n",
      "Jumps performed: 80\n",
      "Scanning data/2005JP3089RL.pdf\n",
      "Jumps performed: 73\n",
      "Scanning data/2005JP3102RL.pdf\n",
      "Jumps performed: 78\n",
      "Scanning data/2005JP3103RL.pdf\n",
      "Jumps performed: 80\n",
      "Scanning data/2005JP3108RL.pdf\n",
      "Jumps performed: 78\n",
      "Scanning data/2005JP3110RL.pdf\n",
      "Jumps performed: 81\n",
      "Scanning data/2005JP3118RL.pdf\n",
      "Jumps performed: 80\n",
      "Scanning data/2005JP3119RL.pdf\n",
      "Jumps performed: 81\n",
      "Scanning data/2005JP3130RL.pdf\n",
      "Jumps performed: 70\n",
      "Scanning data/2005JP3131RL.pdf\n",
      "Jumps performed: 61\n",
      "Scanning data/2005JP3134RL.pdf\n",
      "Jumps performed: 80\n",
      "Scanning data/2005JP3135RL.pdf\n",
      "Jumps performed: 80\n",
      "Scanning data/3007RL4.pdf\n",
      "Jumps performed: 80\n",
      "Scanning data/3010RL4.pdf\n",
      "Jumps performed: 80\n",
      "Scanning data/3011RL.pdf\n",
      "Jumps performed: 80\n",
      "Scanning data/3011RL4.pdf\n",
      "Jumps performed: 61\n",
      "Scanning data/3012RL.pdf\n",
      "Jumps performed: 80\n",
      "Scanning data/3013RL.pdf\n",
      "Jumps performed: 80\n",
      "Scanning data/3014RL4.pdf\n",
      "Jumps performed: 80\n",
      "Scanning data/3015RL4.pdf\n",
      "Jumps performed: 79\n",
      "Scanning data/3021RL4.pdf\n",
      "Jumps performed: 80\n",
      "Scanning data/3022RL4.pdf\n",
      "Jumps performed: 80\n",
      "Scanning data/3024RL4.pdf\n",
      "Jumps performed: 79\n",
      "Scanning data/3025RL4.pdf\n",
      "Jumps performed: 80\n",
      "Scanning data/3026RL4.pdf\n",
      "Jumps performed: 80\n",
      "Scanning data/3027RL4.pdf\n",
      "Jumps performed: 81\n",
      "Scanning data/3033RL4.pdf\n",
      "Jumps performed: 78\n",
      "Scanning data/3041RL4.pdf\n",
      "Jumps performed: 80\n",
      "Scanning data/3049RL2.pdf\n",
      "Jumps performed: 79\n",
      "Scanning data/3051RL4.pdf\n",
      "Jumps performed: 80\n",
      "Scanning data/3052RL4.pdf\n",
      "Jumps performed: 80\n",
      "Scanning data/3057RL4.pdf\n",
      "Jumps performed: 81\n",
      "Scanning data/3058RL4.pdf\n",
      "Jumps performed: 80\n",
      "Scanning data/3061RL.pdf\n",
      "Jumps performed: 81\n",
      "Scanning data/3062RL.pdf\n",
      "Jumps performed: 80\n",
      "Scanning data/3066RL4.pdf\n",
      "Jumps performed: 79\n",
      "Scanning data/3067RL4.pdf\n",
      "Jumps performed: 80\n",
      "Scanning data/3068RL4.pdf\n",
      "Jumps performed: 80\n",
      "Scanning data/3069RL4.pdf\n",
      "Jumps performed: 80\n",
      "Scanning data/3071RL4.pdf\n",
      "Jumps performed: 80\n",
      "Scanning data/3086RL4.pdf\n",
      "Jumps performed: 80\n",
      "Scanning data/3087RL.pdf\n",
      "Jumps performed: 79\n",
      "Scanning data/3088RL.pdf\n",
      "Jumps performed: 80\n",
      "Scanning data/3088RL4.pdf\n",
      "Jumps performed: 80\n",
      "Scanning data/3089RL4.pdf\n",
      "Jumps performed: 80\n",
      "Scanning data/3090RL4.pdf\n",
      "Jumps performed: 80\n",
      "Scanning data/3097RL4 (1).pdf\n",
      "Jumps performed: 87\n",
      "Scanning data/3097RL4.pdf\n",
      "Jumps performed: 81\n",
      "Scanning data/3098RL4.pdf\n",
      "Jumps performed: 90\n",
      "Scanning data/3099RL4.pdf\n",
      "Jumps performed: 80\n",
      "Scanning data/3110RL4.pdf\n",
      "Jumps performed: 79\n",
      "Scanning data/3113RL4.pdf\n",
      "Jumps performed: 80\n",
      "Scanning data/3114RL4.pdf\n",
      "Jumps performed: 89\n",
      "Scanning data/3115RL4.pdf\n",
      "Jumps performed: 90\n",
      "Scanning data/3116RL.pdf\n",
      "Jumps performed: 78\n",
      "Scanning data/3117RL.pdf\n",
      "Jumps performed: 80\n",
      "Scanning data/3118RL.pdf\n",
      "Jumps performed: 80\n",
      "Scanning data/3119RL.pdf\n",
      "Jumps performed: 80\n",
      "Scanning data/3121RL.pdf\n",
      "Jumps performed: 80\n",
      "Scanning data/3127RL4.pdf\n",
      "Jumps performed: 80\n",
      "Scanning data/3128RL4.pdf\n",
      "Jumps performed: 80\n",
      "Scanning data/3132RL4.pdf\n",
      "Jumps performed: 80\n",
      "Scanning data/3133RL4 (1).pdf\n",
      "Jumps performed: 61\n",
      "Scanning data/3133RL4.pdf\n",
      "Jumps performed: 81\n",
      "Scanning data/3135RL4.pdf\n",
      "Jumps performed: 80\n",
      "Scanning data/3141RL4.pdf\n",
      "Jumps performed: 82\n",
      "Scanning data/3142RL4.pdf\n",
      "Jumps performed: 80\n",
      "Scanning data/3156RL.pdf\n",
      "Jumps performed: 80\n",
      "Scanning data/3157RL.pdf\n",
      "Jumps performed: 80\n",
      "Scanning data/3162RL.pdf\n",
      "Jumps performed: 80\n",
      "Scanning data/3171RL.pdf\n",
      "Jumps performed: 80\n",
      "Scanning data/3172RL.pdf\n",
      "Jumps performed: 80\n",
      "Scanning data/3183RL.pdf\n",
      "Jumps performed: 82\n",
      "Scanning data/3184RL.pdf\n",
      "Jumps performed: 80\n"
     ]
    }
   ],
   "source": [
    "# Create DataFrame to store competition data - year and judges names\n",
    "competition_data_columns = ['competition_id', 'year', 'referee_A', 'referee_B', 'referee_C', 'referee_D', 'referee_E']\n",
    "competition_data_df = pd.DataFrame(columns=competition_data_columns)\n",
    "\n",
    "# Create DataFrame to store all notes\n",
    "scores_df_columns = ['competition_id', 'jumper_name', 'jumper_country', 'note_A', 'note_B', 'note_C', 'note_D', 'note_E']\n",
    "scores_df = pd.DataFrame(columns=scores_df_columns)\n",
    "\n",
    "# Create DataFrame to store jury countries\n",
    "jury_data_columns = ['judge_name', 'judge_nationality']\n",
    "jury_data_df = pd.DataFrame(columns=jury_data_columns)\n",
    "\n",
    "# Fill DataFrame with competitions scores\n",
    "data_path = 'data/'\n",
    "competition_scores_columns = ['jumper_name', 'jumper_country', 'note_A', 'note_B', 'note_C', 'note_D', 'note_E', 'referenced_A', 'referenced_B', 'referenced_C', 'referenced_D', 'referenced_E']\n",
    "\n",
    "for file_name in os.listdir(data_path):\n",
    "\n",
    "    # Competition scores\n",
    "    file_path = data_path + file_name\n",
    "    print(f'Scanning {file_path}')\n",
    "    pdf = parser.from_file(file_path)\n",
    "    competition_scores_list = get_competition_scores(pdf)\n",
    "    competition_scores_df = pd.DataFrame(competition_scores_list, columns=competition_scores_columns)\n",
    "    competition_scores_df['competition_id'] = file_name\n",
    "    scores_df = pd.concat([scores_df, competition_scores_df])\n",
    "    print(f'Jumps performed: {len(competition_scores_list)}')\n",
    "\n",
    "    # Competition data\n",
    "    jury_names = [x[0] for x in get_jury(pdf)]\n",
    "    competition_data_df = pd.concat([\n",
    "        competition_data_df,\n",
    "        pd.DataFrame([[file_name, get_year(pdf)] + jury_names], columns=competition_data_columns)\n",
    "    ])\n",
    "\n",
    "    # Jury data\n",
    "    for jury in get_jury(pdf):\n",
    "        if jury[0] not in jury_data_df['judge_name'].to_numpy():\n",
    "            jury_data_df = pd.concat([\n",
    "                jury_data_df,\n",
    "                pd.DataFrame([jury], columns=jury_data_columns)\n",
    "            ])"
   ],
   "metadata": {
    "collapsed": false
   }
  },
  {
   "cell_type": "markdown",
   "source": [
    "# Let's check the data"
   ],
   "metadata": {
    "collapsed": false
   }
  },
  {
   "cell_type": "markdown",
   "source": [
    "## Competition data\n",
    "As we can see, there is no null values, seems like the referees and competition years have been filled nice"
   ],
   "metadata": {
    "collapsed": false
   }
  },
  {
   "cell_type": "code",
   "execution_count": 6,
   "outputs": [
    {
     "data": {
      "text/plain": "     competition_id  year          referee_A           referee_B  \\\n0  2005JP3007RL.pdf  2005  Schnetzer Manfred      Langer Andreas   \n0  2005JP3008RL.pdf  2005        Nordin Hans       Bras Vladimir   \n0  2005JP3012RL.pdf  2005        Justin Toni   Kaekilehto Juhani   \n0  2005JP3013RL.pdf  2005       Krab Gerhard  Aschenbach Dietmar   \n0  2005JP3019RL.pdf  2004      Hoehnl Rudolf       Stahlhut Erik   \n0  2005JP3020RL.pdf  2004       Bester Janez       Hoehnl Rudolf   \n0  2005JP3025RL.pdf  2004    Evja Jan Bjoern         Walter Kurt   \n0  2005JP3032RL.pdf  2005    Szostak Tadeusz      Junnonen Tapio   \n0  2005JP3033RL.pdf  2005  Nakamura Mitsushi     Stattmann Peter   \n0  2005JP3051RL.pdf  2004   Bachmayer Johann          Dahl Anton   \n\n           referee_C              referee_D           referee_E  \n0     Bakken Knut A.          Braz Vladimir         Nordin Hans  \n0         Hess Bernd         Bakken Knut A.         Wolf Stefan  \n0       Krab Gerhard        Minemura Yutaka  Aschenbach Dietmar  \n0        Justin Toni        Minemura Yutaka   Kaekilehto Juhani  \n0       Livland Nils         Pichler Johann        Bester Janez  \n0     Pichler Johann           Livland Nils       Stahlhut Erik  \n0       Kallio Tapio  Dlugopolski Kazimierz            Busk Per  \n0  Nakamura Mitsushi            Solbu Jarle     Stattmann Peter  \n0    Szostak Tadeusz         Huopainen Juha      Bakken Knut A.  \n0  Borstnar Zvonimir        Huenefeld Mirko         Nordin Hans  ",
      "text/html": "<div>\n<style scoped>\n    .dataframe tbody tr th:only-of-type {\n        vertical-align: middle;\n    }\n\n    .dataframe tbody tr th {\n        vertical-align: top;\n    }\n\n    .dataframe thead th {\n        text-align: right;\n    }\n</style>\n<table border=\"1\" class=\"dataframe\">\n  <thead>\n    <tr style=\"text-align: right;\">\n      <th></th>\n      <th>competition_id</th>\n      <th>year</th>\n      <th>referee_A</th>\n      <th>referee_B</th>\n      <th>referee_C</th>\n      <th>referee_D</th>\n      <th>referee_E</th>\n    </tr>\n  </thead>\n  <tbody>\n    <tr>\n      <th>0</th>\n      <td>2005JP3007RL.pdf</td>\n      <td>2005</td>\n      <td>Schnetzer Manfred</td>\n      <td>Langer Andreas</td>\n      <td>Bakken Knut A.</td>\n      <td>Braz Vladimir</td>\n      <td>Nordin Hans</td>\n    </tr>\n    <tr>\n      <th>0</th>\n      <td>2005JP3008RL.pdf</td>\n      <td>2005</td>\n      <td>Nordin Hans</td>\n      <td>Bras Vladimir</td>\n      <td>Hess Bernd</td>\n      <td>Bakken Knut A.</td>\n      <td>Wolf Stefan</td>\n    </tr>\n    <tr>\n      <th>0</th>\n      <td>2005JP3012RL.pdf</td>\n      <td>2005</td>\n      <td>Justin Toni</td>\n      <td>Kaekilehto Juhani</td>\n      <td>Krab Gerhard</td>\n      <td>Minemura Yutaka</td>\n      <td>Aschenbach Dietmar</td>\n    </tr>\n    <tr>\n      <th>0</th>\n      <td>2005JP3013RL.pdf</td>\n      <td>2005</td>\n      <td>Krab Gerhard</td>\n      <td>Aschenbach Dietmar</td>\n      <td>Justin Toni</td>\n      <td>Minemura Yutaka</td>\n      <td>Kaekilehto Juhani</td>\n    </tr>\n    <tr>\n      <th>0</th>\n      <td>2005JP3019RL.pdf</td>\n      <td>2004</td>\n      <td>Hoehnl Rudolf</td>\n      <td>Stahlhut Erik</td>\n      <td>Livland Nils</td>\n      <td>Pichler Johann</td>\n      <td>Bester Janez</td>\n    </tr>\n    <tr>\n      <th>0</th>\n      <td>2005JP3020RL.pdf</td>\n      <td>2004</td>\n      <td>Bester Janez</td>\n      <td>Hoehnl Rudolf</td>\n      <td>Pichler Johann</td>\n      <td>Livland Nils</td>\n      <td>Stahlhut Erik</td>\n    </tr>\n    <tr>\n      <th>0</th>\n      <td>2005JP3025RL.pdf</td>\n      <td>2004</td>\n      <td>Evja Jan Bjoern</td>\n      <td>Walter Kurt</td>\n      <td>Kallio Tapio</td>\n      <td>Dlugopolski Kazimierz</td>\n      <td>Busk Per</td>\n    </tr>\n    <tr>\n      <th>0</th>\n      <td>2005JP3032RL.pdf</td>\n      <td>2005</td>\n      <td>Szostak Tadeusz</td>\n      <td>Junnonen Tapio</td>\n      <td>Nakamura Mitsushi</td>\n      <td>Solbu Jarle</td>\n      <td>Stattmann Peter</td>\n    </tr>\n    <tr>\n      <th>0</th>\n      <td>2005JP3033RL.pdf</td>\n      <td>2005</td>\n      <td>Nakamura Mitsushi</td>\n      <td>Stattmann Peter</td>\n      <td>Szostak Tadeusz</td>\n      <td>Huopainen Juha</td>\n      <td>Bakken Knut A.</td>\n    </tr>\n    <tr>\n      <th>0</th>\n      <td>2005JP3051RL.pdf</td>\n      <td>2004</td>\n      <td>Bachmayer Johann</td>\n      <td>Dahl Anton</td>\n      <td>Borstnar Zvonimir</td>\n      <td>Huenefeld Mirko</td>\n      <td>Nordin Hans</td>\n    </tr>\n  </tbody>\n</table>\n</div>"
     },
     "execution_count": 6,
     "metadata": {},
     "output_type": "execute_result"
    }
   ],
   "source": [
    "competition_data_df.head(10)"
   ],
   "metadata": {
    "collapsed": false
   }
  },
  {
   "cell_type": "code",
   "execution_count": 7,
   "outputs": [
    {
     "name": "stdout",
     "output_type": "stream",
     "text": [
      "<class 'pandas.core.frame.DataFrame'>\n",
      "Int64Index: 88 entries, 0 to 0\n",
      "Data columns (total 7 columns):\n",
      " #   Column          Non-Null Count  Dtype \n",
      "---  ------          --------------  ----- \n",
      " 0   competition_id  88 non-null     object\n",
      " 1   year            88 non-null     object\n",
      " 2   referee_A       88 non-null     object\n",
      " 3   referee_B       88 non-null     object\n",
      " 4   referee_C       88 non-null     object\n",
      " 5   referee_D       88 non-null     object\n",
      " 6   referee_E       88 non-null     object\n",
      "dtypes: object(7)\n",
      "memory usage: 5.5+ KB\n"
     ]
    }
   ],
   "source": [
    "competition_data_df.info()"
   ],
   "metadata": {
    "collapsed": false
   }
  },
  {
   "cell_type": "markdown",
   "source": [
    "## Jury data\n",
    "Also seems nice"
   ],
   "metadata": {
    "collapsed": false
   }
  },
  {
   "cell_type": "code",
   "execution_count": 222,
   "outputs": [
    {
     "name": "stdout",
     "output_type": "stream",
     "text": [
      "<class 'pandas.core.frame.DataFrame'>\n",
      "Int64Index: 138 entries, 0 to 0\n",
      "Data columns (total 2 columns):\n",
      " #   Column             Non-Null Count  Dtype \n",
      "---  ------             --------------  ----- \n",
      " 0   judge_name         138 non-null    object\n",
      " 1   judge_nationality  138 non-null    object\n",
      "dtypes: object(2)\n",
      "memory usage: 3.2+ KB\n"
     ]
    }
   ],
   "source": [
    "jury_data_df.info()"
   ],
   "metadata": {
    "collapsed": false
   }
  },
  {
   "cell_type": "code",
   "execution_count": 223,
   "outputs": [
    {
     "data": {
      "text/plain": "          judge_name judge_nationality\n0  Schnetzer Manfred               AUT\n0     Langer Andreas               GER\n0     Bakken Knut A.               NOR\n0      Braz Vladimir               SLO\n0        Nordin Hans               SWE\n0      Bras Vladimir               SLO\n0         Hess Bernd               GER\n0        Wolf Stefan               AUT\n0        Justin Toni               SLO\n0  Kaekilehto Juhani               FIN",
      "text/html": "<div>\n<style scoped>\n    .dataframe tbody tr th:only-of-type {\n        vertical-align: middle;\n    }\n\n    .dataframe tbody tr th {\n        vertical-align: top;\n    }\n\n    .dataframe thead th {\n        text-align: right;\n    }\n</style>\n<table border=\"1\" class=\"dataframe\">\n  <thead>\n    <tr style=\"text-align: right;\">\n      <th></th>\n      <th>judge_name</th>\n      <th>judge_nationality</th>\n    </tr>\n  </thead>\n  <tbody>\n    <tr>\n      <th>0</th>\n      <td>Schnetzer Manfred</td>\n      <td>AUT</td>\n    </tr>\n    <tr>\n      <th>0</th>\n      <td>Langer Andreas</td>\n      <td>GER</td>\n    </tr>\n    <tr>\n      <th>0</th>\n      <td>Bakken Knut A.</td>\n      <td>NOR</td>\n    </tr>\n    <tr>\n      <th>0</th>\n      <td>Braz Vladimir</td>\n      <td>SLO</td>\n    </tr>\n    <tr>\n      <th>0</th>\n      <td>Nordin Hans</td>\n      <td>SWE</td>\n    </tr>\n    <tr>\n      <th>0</th>\n      <td>Bras Vladimir</td>\n      <td>SLO</td>\n    </tr>\n    <tr>\n      <th>0</th>\n      <td>Hess Bernd</td>\n      <td>GER</td>\n    </tr>\n    <tr>\n      <th>0</th>\n      <td>Wolf Stefan</td>\n      <td>AUT</td>\n    </tr>\n    <tr>\n      <th>0</th>\n      <td>Justin Toni</td>\n      <td>SLO</td>\n    </tr>\n    <tr>\n      <th>0</th>\n      <td>Kaekilehto Juhani</td>\n      <td>FIN</td>\n    </tr>\n  </tbody>\n</table>\n</div>"
     },
     "execution_count": 223,
     "metadata": {},
     "output_type": "execute_result"
    }
   ],
   "source": [
    "jury_data_df.head(10)"
   ],
   "metadata": {
    "collapsed": false
   }
  },
  {
   "cell_type": "markdown",
   "source": [
    "## Competition scores\n",
    "Let's see it above and discuss it later:"
   ],
   "metadata": {
    "collapsed": false
   }
  },
  {
   "cell_type": "code",
   "execution_count": 250,
   "outputs": [
    {
     "name": "stdout",
     "output_type": "stream",
     "text": [
      "<class 'pandas.core.frame.DataFrame'>\n",
      "Int64Index: 6987 entries, 0 to 79\n",
      "Data columns (total 13 columns):\n",
      " #   Column          Non-Null Count  Dtype  \n",
      "---  ------          --------------  -----  \n",
      " 0   competition_id  6987 non-null   object \n",
      " 1   jumper_name     6987 non-null   object \n",
      " 2   jumper_country  6987 non-null   object \n",
      " 3   note_A          6984 non-null   float64\n",
      " 4   note_B          6984 non-null   float64\n",
      " 5   note_C          6984 non-null   float64\n",
      " 6   note_D          6984 non-null   float64\n",
      " 7   note_E          6984 non-null   float64\n",
      " 8   referenced_A    6984 non-null   float64\n",
      " 9   referenced_B    6984 non-null   float64\n",
      " 10  referenced_C    6984 non-null   float64\n",
      " 11  referenced_D    6984 non-null   float64\n",
      " 12  referenced_E    6984 non-null   float64\n",
      "dtypes: float64(10), object(3)\n",
      "memory usage: 764.2+ KB\n"
     ]
    }
   ],
   "source": [
    "scores_df.info()"
   ],
   "metadata": {
    "collapsed": false
   }
  },
  {
   "cell_type": "code",
   "execution_count": 258,
   "outputs": [
    {
     "data": {
      "text/plain": "            note_A       note_B       note_C       note_D       note_E  \\\ncount  6984.000000  6984.000000  6984.000000  6984.000000  6984.000000   \nmean     17.750215    17.766180    17.725014    17.732030    17.775988   \nstd       1.146476     1.141918     1.151998     1.169309     1.592028   \nmin       9.500000     8.500000     8.000000     8.000000     8.000000   \n25%      17.500000    17.500000    17.000000    17.000000    17.500000   \n50%      18.000000    18.000000    18.000000    18.000000    18.000000   \n75%      18.500000    18.500000    18.500000    18.500000    18.500000   \nmax      20.000000    20.000000    20.000000    20.000000    53.500000   \n\n       referenced_A  referenced_B  referenced_C  referenced_D  referenced_E  \ncount   6984.000000   6984.000000   6984.000000   6984.000000   6984.000000  \nmean       0.000412      0.020368     -0.031089     -0.022319      0.032628  \nstd        0.492640      0.477977      0.475486      0.484181      1.202295  \nmin       -9.250000     -9.250000     -9.000000     -8.875000     -2.250000  \n25%       -0.250000     -0.250000     -0.250000     -0.250000     -0.250000  \n50%        0.000000      0.000000      0.000000      0.000000      0.000000  \n75%        0.250000      0.250000      0.250000      0.250000      0.250000  \nmax        3.375000      3.375000      1.875000      2.500000     35.750000  ",
      "text/html": "<div>\n<style scoped>\n    .dataframe tbody tr th:only-of-type {\n        vertical-align: middle;\n    }\n\n    .dataframe tbody tr th {\n        vertical-align: top;\n    }\n\n    .dataframe thead th {\n        text-align: right;\n    }\n</style>\n<table border=\"1\" class=\"dataframe\">\n  <thead>\n    <tr style=\"text-align: right;\">\n      <th></th>\n      <th>note_A</th>\n      <th>note_B</th>\n      <th>note_C</th>\n      <th>note_D</th>\n      <th>note_E</th>\n      <th>referenced_A</th>\n      <th>referenced_B</th>\n      <th>referenced_C</th>\n      <th>referenced_D</th>\n      <th>referenced_E</th>\n    </tr>\n  </thead>\n  <tbody>\n    <tr>\n      <th>count</th>\n      <td>6984.000000</td>\n      <td>6984.000000</td>\n      <td>6984.000000</td>\n      <td>6984.000000</td>\n      <td>6984.000000</td>\n      <td>6984.000000</td>\n      <td>6984.000000</td>\n      <td>6984.000000</td>\n      <td>6984.000000</td>\n      <td>6984.000000</td>\n    </tr>\n    <tr>\n      <th>mean</th>\n      <td>17.750215</td>\n      <td>17.766180</td>\n      <td>17.725014</td>\n      <td>17.732030</td>\n      <td>17.775988</td>\n      <td>0.000412</td>\n      <td>0.020368</td>\n      <td>-0.031089</td>\n      <td>-0.022319</td>\n      <td>0.032628</td>\n    </tr>\n    <tr>\n      <th>std</th>\n      <td>1.146476</td>\n      <td>1.141918</td>\n      <td>1.151998</td>\n      <td>1.169309</td>\n      <td>1.592028</td>\n      <td>0.492640</td>\n      <td>0.477977</td>\n      <td>0.475486</td>\n      <td>0.484181</td>\n      <td>1.202295</td>\n    </tr>\n    <tr>\n      <th>min</th>\n      <td>9.500000</td>\n      <td>8.500000</td>\n      <td>8.000000</td>\n      <td>8.000000</td>\n      <td>8.000000</td>\n      <td>-9.250000</td>\n      <td>-9.250000</td>\n      <td>-9.000000</td>\n      <td>-8.875000</td>\n      <td>-2.250000</td>\n    </tr>\n    <tr>\n      <th>25%</th>\n      <td>17.500000</td>\n      <td>17.500000</td>\n      <td>17.000000</td>\n      <td>17.000000</td>\n      <td>17.500000</td>\n      <td>-0.250000</td>\n      <td>-0.250000</td>\n      <td>-0.250000</td>\n      <td>-0.250000</td>\n      <td>-0.250000</td>\n    </tr>\n    <tr>\n      <th>50%</th>\n      <td>18.000000</td>\n      <td>18.000000</td>\n      <td>18.000000</td>\n      <td>18.000000</td>\n      <td>18.000000</td>\n      <td>0.000000</td>\n      <td>0.000000</td>\n      <td>0.000000</td>\n      <td>0.000000</td>\n      <td>0.000000</td>\n    </tr>\n    <tr>\n      <th>75%</th>\n      <td>18.500000</td>\n      <td>18.500000</td>\n      <td>18.500000</td>\n      <td>18.500000</td>\n      <td>18.500000</td>\n      <td>0.250000</td>\n      <td>0.250000</td>\n      <td>0.250000</td>\n      <td>0.250000</td>\n      <td>0.250000</td>\n    </tr>\n    <tr>\n      <th>max</th>\n      <td>20.000000</td>\n      <td>20.000000</td>\n      <td>20.000000</td>\n      <td>20.000000</td>\n      <td>53.500000</td>\n      <td>3.375000</td>\n      <td>3.375000</td>\n      <td>1.875000</td>\n      <td>2.500000</td>\n      <td>35.750000</td>\n    </tr>\n  </tbody>\n</table>\n</div>"
     },
     "execution_count": 258,
     "metadata": {},
     "output_type": "execute_result"
    }
   ],
   "source": [
    "scores_df.describe()"
   ],
   "metadata": {
    "collapsed": false
   }
  },
  {
   "cell_type": "code",
   "execution_count": 259,
   "outputs": [
    {
     "data": {
      "text/plain": "     competition_id         jumper_name jumper_country  note_A  note_B  \\\n0  2005JP3007RL.pdf        Ahonen Janne            FIN    19.5    18.5   \n1  2005JP3007RL.pdf        Ahonen Janne            FIN    18.0    17.0   \n2  2005JP3007RL.pdf         Malysz Adam            POL    19.0    19.0   \n3  2005JP3007RL.pdf         Malysz Adam            POL    18.5    18.5   \n4  2005JP3007RL.pdf         Janda Jakub            CZE    19.0    19.0   \n5  2005JP3007RL.pdf         Janda Jakub            CZE    18.5    18.5   \n6  2005JP3007RL.pdf  Morgenstern Thomas            AUT    17.5    18.0   \n7  2005JP3007RL.pdf  Morgenstern Thomas            AUT    19.5    19.0   \n8  2005JP3007RL.pdf   Hoellwarth Martin            AUT    18.0    19.0   \n9  2005JP3007RL.pdf   Hoellwarth Martin            AUT    18.0    18.0   \n\n   note_C  note_D  note_E  referenced_A  referenced_B  referenced_C  \\\n0    19.0    19.0    19.0         0.625        -0.625         0.000   \n1    16.5    16.5    18.0         1.000        -0.250        -0.875   \n2    18.0    18.5    18.5         0.500         0.500        -0.750   \n3    18.0    18.0    18.0         0.375         0.375        -0.250   \n4    19.0    19.0    18.5         0.125         0.125         0.125   \n5    18.5    18.5    18.5         0.000         0.000         0.000   \n6    17.5    17.0    17.5         0.000         0.625         0.000   \n7    18.5    19.0    18.5         0.750         0.125        -0.500   \n8    17.5    18.5    18.0        -0.250         1.000        -0.875   \n9    18.0    17.5    18.0         0.125         0.125         0.125   \n\n   referenced_D  referenced_E  \n0         0.000         0.000  \n1        -0.875         1.000  \n2        -0.125        -0.125  \n3        -0.250        -0.250  \n4         0.125        -0.500  \n5         0.000         0.000  \n6        -0.625         0.000  \n7         0.125        -0.500  \n8         0.375        -0.250  \n9        -0.500         0.125  ",
      "text/html": "<div>\n<style scoped>\n    .dataframe tbody tr th:only-of-type {\n        vertical-align: middle;\n    }\n\n    .dataframe tbody tr th {\n        vertical-align: top;\n    }\n\n    .dataframe thead th {\n        text-align: right;\n    }\n</style>\n<table border=\"1\" class=\"dataframe\">\n  <thead>\n    <tr style=\"text-align: right;\">\n      <th></th>\n      <th>competition_id</th>\n      <th>jumper_name</th>\n      <th>jumper_country</th>\n      <th>note_A</th>\n      <th>note_B</th>\n      <th>note_C</th>\n      <th>note_D</th>\n      <th>note_E</th>\n      <th>referenced_A</th>\n      <th>referenced_B</th>\n      <th>referenced_C</th>\n      <th>referenced_D</th>\n      <th>referenced_E</th>\n    </tr>\n  </thead>\n  <tbody>\n    <tr>\n      <th>0</th>\n      <td>2005JP3007RL.pdf</td>\n      <td>Ahonen Janne</td>\n      <td>FIN</td>\n      <td>19.5</td>\n      <td>18.5</td>\n      <td>19.0</td>\n      <td>19.0</td>\n      <td>19.0</td>\n      <td>0.625</td>\n      <td>-0.625</td>\n      <td>0.000</td>\n      <td>0.000</td>\n      <td>0.000</td>\n    </tr>\n    <tr>\n      <th>1</th>\n      <td>2005JP3007RL.pdf</td>\n      <td>Ahonen Janne</td>\n      <td>FIN</td>\n      <td>18.0</td>\n      <td>17.0</td>\n      <td>16.5</td>\n      <td>16.5</td>\n      <td>18.0</td>\n      <td>1.000</td>\n      <td>-0.250</td>\n      <td>-0.875</td>\n      <td>-0.875</td>\n      <td>1.000</td>\n    </tr>\n    <tr>\n      <th>2</th>\n      <td>2005JP3007RL.pdf</td>\n      <td>Malysz Adam</td>\n      <td>POL</td>\n      <td>19.0</td>\n      <td>19.0</td>\n      <td>18.0</td>\n      <td>18.5</td>\n      <td>18.5</td>\n      <td>0.500</td>\n      <td>0.500</td>\n      <td>-0.750</td>\n      <td>-0.125</td>\n      <td>-0.125</td>\n    </tr>\n    <tr>\n      <th>3</th>\n      <td>2005JP3007RL.pdf</td>\n      <td>Malysz Adam</td>\n      <td>POL</td>\n      <td>18.5</td>\n      <td>18.5</td>\n      <td>18.0</td>\n      <td>18.0</td>\n      <td>18.0</td>\n      <td>0.375</td>\n      <td>0.375</td>\n      <td>-0.250</td>\n      <td>-0.250</td>\n      <td>-0.250</td>\n    </tr>\n    <tr>\n      <th>4</th>\n      <td>2005JP3007RL.pdf</td>\n      <td>Janda Jakub</td>\n      <td>CZE</td>\n      <td>19.0</td>\n      <td>19.0</td>\n      <td>19.0</td>\n      <td>19.0</td>\n      <td>18.5</td>\n      <td>0.125</td>\n      <td>0.125</td>\n      <td>0.125</td>\n      <td>0.125</td>\n      <td>-0.500</td>\n    </tr>\n    <tr>\n      <th>5</th>\n      <td>2005JP3007RL.pdf</td>\n      <td>Janda Jakub</td>\n      <td>CZE</td>\n      <td>18.5</td>\n      <td>18.5</td>\n      <td>18.5</td>\n      <td>18.5</td>\n      <td>18.5</td>\n      <td>0.000</td>\n      <td>0.000</td>\n      <td>0.000</td>\n      <td>0.000</td>\n      <td>0.000</td>\n    </tr>\n    <tr>\n      <th>6</th>\n      <td>2005JP3007RL.pdf</td>\n      <td>Morgenstern Thomas</td>\n      <td>AUT</td>\n      <td>17.5</td>\n      <td>18.0</td>\n      <td>17.5</td>\n      <td>17.0</td>\n      <td>17.5</td>\n      <td>0.000</td>\n      <td>0.625</td>\n      <td>0.000</td>\n      <td>-0.625</td>\n      <td>0.000</td>\n    </tr>\n    <tr>\n      <th>7</th>\n      <td>2005JP3007RL.pdf</td>\n      <td>Morgenstern Thomas</td>\n      <td>AUT</td>\n      <td>19.5</td>\n      <td>19.0</td>\n      <td>18.5</td>\n      <td>19.0</td>\n      <td>18.5</td>\n      <td>0.750</td>\n      <td>0.125</td>\n      <td>-0.500</td>\n      <td>0.125</td>\n      <td>-0.500</td>\n    </tr>\n    <tr>\n      <th>8</th>\n      <td>2005JP3007RL.pdf</td>\n      <td>Hoellwarth Martin</td>\n      <td>AUT</td>\n      <td>18.0</td>\n      <td>19.0</td>\n      <td>17.5</td>\n      <td>18.5</td>\n      <td>18.0</td>\n      <td>-0.250</td>\n      <td>1.000</td>\n      <td>-0.875</td>\n      <td>0.375</td>\n      <td>-0.250</td>\n    </tr>\n    <tr>\n      <th>9</th>\n      <td>2005JP3007RL.pdf</td>\n      <td>Hoellwarth Martin</td>\n      <td>AUT</td>\n      <td>18.0</td>\n      <td>18.0</td>\n      <td>18.0</td>\n      <td>17.5</td>\n      <td>18.0</td>\n      <td>0.125</td>\n      <td>0.125</td>\n      <td>0.125</td>\n      <td>-0.500</td>\n      <td>0.125</td>\n    </tr>\n  </tbody>\n</table>\n</div>"
     },
     "execution_count": 259,
     "metadata": {},
     "output_type": "execute_result"
    }
   ],
   "source": [
    "scores_df.head(10)"
   ],
   "metadata": {
    "collapsed": false
   }
  },
  {
   "cell_type": "markdown",
   "source": [
    "As we see above, we got 6987 entries, in which 6984 non-null. That means we got three null entries that will be dropped. What's more, we can see a very generous note from judge E - 53.5, whilst in ski jumping maximum we can get is 20. The judges can give notes that are full or full and half points."
   ],
   "metadata": {
    "collapsed": false
   }
  },
  {
   "cell_type": "markdown",
   "source": [
    "# Data cleaning"
   ],
   "metadata": {
    "collapsed": false
   }
  },
  {
   "cell_type": "markdown",
   "source": [
    "We will drop null entries and remove values that are above 20 or that are not x.0 or x.5 values."
   ],
   "metadata": {
    "collapsed": false
   }
  },
  {
   "cell_type": "code",
   "execution_count": 24,
   "outputs": [],
   "source": [
    "scores_df_clean = scores_df.dropna()\n",
    "\n",
    "for note_index in ['A', 'B', 'C', 'D', 'E']:\n",
    "    column = f'note_{note_index}'\n",
    "    scores_df_clean = scores_df_clean[\n",
    "        (scores_df_clean[column]<=20) & (scores_df_clean[column]%0.5==0)\n",
    "]"
   ],
   "metadata": {
    "collapsed": false
   }
  },
  {
   "cell_type": "markdown",
   "source": [
    "Check clean DataFrame"
   ],
   "metadata": {
    "collapsed": false
   }
  },
  {
   "cell_type": "code",
   "execution_count": 27,
   "outputs": [
    {
     "data": {
      "text/plain": "            note_A       note_B       note_C       note_D       note_E  \\\ncount  6976.000000  6976.000000  6976.000000  6976.000000  6976.000000   \nmean     17.751433    17.767345    17.725917    17.732798    17.738389   \nstd       1.145944     1.141489     1.151652     1.169593     1.137536   \nmin       9.500000     8.500000     8.000000     8.000000     8.000000   \n25%      17.500000    17.500000    17.000000    17.000000    17.500000   \n50%      18.000000    18.000000    18.000000    18.000000    18.000000   \n75%      18.500000    18.500000    18.500000    18.500000    18.500000   \nmax      20.000000    20.000000    20.000000    20.000000    20.000000   \n\n       referenced_A  referenced_B  referenced_C  referenced_D  referenced_E  \ncount   6976.000000   6976.000000   6976.000000   6976.000000   6976.000000  \nmean       0.010321      0.030211     -0.021574     -0.012973     -0.005985  \nstd        0.396322      0.379340      0.383509      0.396046      0.375815  \nmin       -2.625000     -3.125000     -5.500000     -6.375000     -2.250000  \n25%       -0.250000     -0.250000     -0.250000     -0.250000     -0.250000  \n50%        0.000000      0.000000      0.000000      0.000000      0.000000  \n75%        0.250000      0.250000      0.250000      0.250000      0.250000  \nmax        3.375000      3.375000      1.875000      2.500000      3.250000  ",
      "text/html": "<div>\n<style scoped>\n    .dataframe tbody tr th:only-of-type {\n        vertical-align: middle;\n    }\n\n    .dataframe tbody tr th {\n        vertical-align: top;\n    }\n\n    .dataframe thead th {\n        text-align: right;\n    }\n</style>\n<table border=\"1\" class=\"dataframe\">\n  <thead>\n    <tr style=\"text-align: right;\">\n      <th></th>\n      <th>note_A</th>\n      <th>note_B</th>\n      <th>note_C</th>\n      <th>note_D</th>\n      <th>note_E</th>\n      <th>referenced_A</th>\n      <th>referenced_B</th>\n      <th>referenced_C</th>\n      <th>referenced_D</th>\n      <th>referenced_E</th>\n    </tr>\n  </thead>\n  <tbody>\n    <tr>\n      <th>count</th>\n      <td>6976.000000</td>\n      <td>6976.000000</td>\n      <td>6976.000000</td>\n      <td>6976.000000</td>\n      <td>6976.000000</td>\n      <td>6976.000000</td>\n      <td>6976.000000</td>\n      <td>6976.000000</td>\n      <td>6976.000000</td>\n      <td>6976.000000</td>\n    </tr>\n    <tr>\n      <th>mean</th>\n      <td>17.751433</td>\n      <td>17.767345</td>\n      <td>17.725917</td>\n      <td>17.732798</td>\n      <td>17.738389</td>\n      <td>0.010321</td>\n      <td>0.030211</td>\n      <td>-0.021574</td>\n      <td>-0.012973</td>\n      <td>-0.005985</td>\n    </tr>\n    <tr>\n      <th>std</th>\n      <td>1.145944</td>\n      <td>1.141489</td>\n      <td>1.151652</td>\n      <td>1.169593</td>\n      <td>1.137536</td>\n      <td>0.396322</td>\n      <td>0.379340</td>\n      <td>0.383509</td>\n      <td>0.396046</td>\n      <td>0.375815</td>\n    </tr>\n    <tr>\n      <th>min</th>\n      <td>9.500000</td>\n      <td>8.500000</td>\n      <td>8.000000</td>\n      <td>8.000000</td>\n      <td>8.000000</td>\n      <td>-2.625000</td>\n      <td>-3.125000</td>\n      <td>-5.500000</td>\n      <td>-6.375000</td>\n      <td>-2.250000</td>\n    </tr>\n    <tr>\n      <th>25%</th>\n      <td>17.500000</td>\n      <td>17.500000</td>\n      <td>17.000000</td>\n      <td>17.000000</td>\n      <td>17.500000</td>\n      <td>-0.250000</td>\n      <td>-0.250000</td>\n      <td>-0.250000</td>\n      <td>-0.250000</td>\n      <td>-0.250000</td>\n    </tr>\n    <tr>\n      <th>50%</th>\n      <td>18.000000</td>\n      <td>18.000000</td>\n      <td>18.000000</td>\n      <td>18.000000</td>\n      <td>18.000000</td>\n      <td>0.000000</td>\n      <td>0.000000</td>\n      <td>0.000000</td>\n      <td>0.000000</td>\n      <td>0.000000</td>\n    </tr>\n    <tr>\n      <th>75%</th>\n      <td>18.500000</td>\n      <td>18.500000</td>\n      <td>18.500000</td>\n      <td>18.500000</td>\n      <td>18.500000</td>\n      <td>0.250000</td>\n      <td>0.250000</td>\n      <td>0.250000</td>\n      <td>0.250000</td>\n      <td>0.250000</td>\n    </tr>\n    <tr>\n      <th>max</th>\n      <td>20.000000</td>\n      <td>20.000000</td>\n      <td>20.000000</td>\n      <td>20.000000</td>\n      <td>20.000000</td>\n      <td>3.375000</td>\n      <td>3.375000</td>\n      <td>1.875000</td>\n      <td>2.500000</td>\n      <td>3.250000</td>\n    </tr>\n  </tbody>\n</table>\n</div>"
     },
     "execution_count": 27,
     "metadata": {},
     "output_type": "execute_result"
    }
   ],
   "source": [
    "scores_df_clean.describe()"
   ],
   "metadata": {
    "collapsed": false
   }
  },
  {
   "cell_type": "markdown",
   "source": [
    "# Creating a database"
   ],
   "metadata": {
    "collapsed": false
   }
  },
  {
   "cell_type": "markdown",
   "source": [
    "As this is an educational project we will create a database and insert our data into tables to get more skills in SQL. So some tasks will be performed directly using Pandas and some using SQL"
   ],
   "metadata": {
    "collapsed": false
   }
  },
  {
   "cell_type": "markdown",
   "source": [
    "## Create tables"
   ],
   "metadata": {
    "collapsed": false
   }
  },
  {
   "cell_type": "code",
   "execution_count": 34,
   "outputs": [],
   "source": [
    "db = sqlite3.connect('ski_jumping_database')\n",
    "cursor = db.cursor()\n",
    "cursor.execute('CREATE TABLE IF NOT EXISTS competitions (competition_id, year, referee_A, referee_B, referee_C, referee_D, referee_E)')\n",
    "cursor.execute('CREATE TABLE IF NOT EXISTS jury (judge_name, judge_nationality)')\n",
    "cursor.execute('CREATE TABLE IF NOT EXISTS notes (competition_id, jumper_name, jumper_country, note_A, note_B, note_C, note_D, note_E)')\n",
    "db.commit()"
   ],
   "metadata": {
    "collapsed": false
   }
  },
  {
   "cell_type": "markdown",
   "source": [
    "## Insert data into tables"
   ],
   "metadata": {
    "collapsed": false
   }
  },
  {
   "cell_type": "code",
   "execution_count": 38,
   "outputs": [
    {
     "data": {
      "text/plain": "6976"
     },
     "execution_count": 38,
     "metadata": {},
     "output_type": "execute_result"
    }
   ],
   "source": [
    "competition_data_df.to_sql('competitions', db, if_exists='replace', index=False)\n",
    "jury_data_df.to_sql('jury', db, if_exists='replace', index=False)\n",
    "scores_df_clean.to_sql('notes', db, if_exists='replace', index=False)"
   ],
   "metadata": {
    "collapsed": false
   }
  },
  {
   "cell_type": "markdown",
   "source": [
    "Let's check if it works"
   ],
   "metadata": {
    "collapsed": false
   }
  },
  {
   "cell_type": "code",
   "execution_count": 58,
   "outputs": [
    {
     "name": "stdout",
     "output_type": "stream",
     "text": [
      "('Dlugopolski Kazimierz', 'POL')\n",
      "('Szostak Tadeusz', 'POL')\n",
      "('Siderek Marek', 'POL')\n",
      "('Tucznio Marek', 'POL')\n",
      "('Gunka Ryszard', 'POL')\n",
      "('Nadarkiewicz Edward', 'POL')\n",
      "('Pilch Jerzy', 'POL')\n",
      "('Przybyta Edward', 'POL')\n"
     ]
    }
   ],
   "source": [
    "cursor.execute(\"SELECT * FROM jury WHERE judge_nationality = 'POL';\")\n",
    "for row in cursor:\n",
    "    print(row)"
   ],
   "metadata": {
    "collapsed": false
   }
  },
  {
   "cell_type": "markdown",
   "source": [
    "Seems ok"
   ],
   "metadata": {
    "collapsed": false
   }
  },
  {
   "cell_type": "markdown",
   "source": [
    "# Exploratory data analysis"
   ],
   "metadata": {
    "collapsed": false
   }
  },
  {
   "cell_type": "markdown",
   "source": [
    "At the beginning let's check how many judges and competitors of each nationality took part in our competitions. For training purposes we will get one value using SQL and one from Pandas."
   ],
   "metadata": {
    "collapsed": false
   }
  },
  {
   "cell_type": "code",
   "execution_count": 71,
   "outputs": [
    {
     "data": {
      "text/plain": "            jumper_name jumper_country\n78     Eigentler Markus            AUT\n79       Hafele Mathias            AUT\n77       Fettner Manuel            AUT\n62          Koch Martin            AUT\n79  Schneider Balthasar            AUT\n..                  ...            ...\n44      Loitzl Wolfgang            WSC\n58     Ritzerfeld Joerg            WSV\n61   Mechler Maximilian            WSV\n63        Hocke Stephan            WSV\n10      Uhrmann Michael        WSV-DJK\n\n[291 rows x 2 columns]",
      "text/html": "<div>\n<style scoped>\n    .dataframe tbody tr th:only-of-type {\n        vertical-align: middle;\n    }\n\n    .dataframe tbody tr th {\n        vertical-align: top;\n    }\n\n    .dataframe thead th {\n        text-align: right;\n    }\n</style>\n<table border=\"1\" class=\"dataframe\">\n  <thead>\n    <tr style=\"text-align: right;\">\n      <th></th>\n      <th>jumper_name</th>\n      <th>jumper_country</th>\n    </tr>\n  </thead>\n  <tbody>\n    <tr>\n      <th>78</th>\n      <td>Eigentler Markus</td>\n      <td>AUT</td>\n    </tr>\n    <tr>\n      <th>79</th>\n      <td>Hafele Mathias</td>\n      <td>AUT</td>\n    </tr>\n    <tr>\n      <th>77</th>\n      <td>Fettner Manuel</td>\n      <td>AUT</td>\n    </tr>\n    <tr>\n      <th>62</th>\n      <td>Koch Martin</td>\n      <td>AUT</td>\n    </tr>\n    <tr>\n      <th>79</th>\n      <td>Schneider Balthasar</td>\n      <td>AUT</td>\n    </tr>\n    <tr>\n      <th>...</th>\n      <td>...</td>\n      <td>...</td>\n    </tr>\n    <tr>\n      <th>44</th>\n      <td>Loitzl Wolfgang</td>\n      <td>WSC</td>\n    </tr>\n    <tr>\n      <th>58</th>\n      <td>Ritzerfeld Joerg</td>\n      <td>WSV</td>\n    </tr>\n    <tr>\n      <th>61</th>\n      <td>Mechler Maximilian</td>\n      <td>WSV</td>\n    </tr>\n    <tr>\n      <th>63</th>\n      <td>Hocke Stephan</td>\n      <td>WSV</td>\n    </tr>\n    <tr>\n      <th>10</th>\n      <td>Uhrmann Michael</td>\n      <td>WSV-DJK</td>\n    </tr>\n  </tbody>\n</table>\n<p>291 rows × 2 columns</p>\n</div>"
     },
     "execution_count": 71,
     "metadata": {},
     "output_type": "execute_result"
    }
   ],
   "source": [
    "# Create a DataFrame containing distinct values of jumpers and countries\n",
    "jumpers_df = scores_df_clean.drop_duplicates(subset=['jumper_name', 'jumper_country'])[['jumper_name', 'jumper_country']]\n",
    "jumpers_df.sort_values('jumper_country')"
   ],
   "metadata": {
    "collapsed": false
   }
  },
  {
   "cell_type": "markdown",
   "source": [
    "We can see that on some cases there is jumper's team name instead of country ID. We will drop them."
   ],
   "metadata": {
    "collapsed": false
   }
  },
  {
   "cell_type": "code",
   "execution_count": 82,
   "outputs": [
    {
     "name": "stdout",
     "output_type": "stream",
     "text": [
      "['FIN' 'POL' 'CZE' 'AUT' 'GER' 'JPN' 'NOR' 'SLO' 'FRA' 'SUI' 'RUS' 'BLR'\n",
      " 'USA' 'SVK' 'EST' 'SWE' 'WSC' 'WSV' 'CSK' 'WKS' 'FIT' 'KAZ' 'CHN' 'KOR'\n",
      " 'LKS' 'G.S' 'ITA' 'NED' 'BUL' 'KGZ']\n"
     ]
    }
   ],
   "source": [
    "jumpers_df = jumpers_df.loc[jumpers_df['jumper_country'].str.len()==3]\n",
    "# Print values left\n",
    "print(jumpers_df['jumper_country'].unique())"
   ],
   "metadata": {
    "collapsed": false
   }
  },
  {
   "cell_type": "code",
   "execution_count": 86,
   "outputs": [
    {
     "data": {
      "text/plain": "          jumper_name jumper_country\n0        Ahonen Janne            FIN\n2         Malysz Adam            POL\n4         Janda Jakub            CZE\n6  Morgenstern Thomas            AUT\n8   Hoellwarth Martin            AUT",
      "text/html": "<div>\n<style scoped>\n    .dataframe tbody tr th:only-of-type {\n        vertical-align: middle;\n    }\n\n    .dataframe tbody tr th {\n        vertical-align: top;\n    }\n\n    .dataframe thead th {\n        text-align: right;\n    }\n</style>\n<table border=\"1\" class=\"dataframe\">\n  <thead>\n    <tr style=\"text-align: right;\">\n      <th></th>\n      <th>jumper_name</th>\n      <th>jumper_country</th>\n    </tr>\n  </thead>\n  <tbody>\n    <tr>\n      <th>0</th>\n      <td>Ahonen Janne</td>\n      <td>FIN</td>\n    </tr>\n    <tr>\n      <th>2</th>\n      <td>Malysz Adam</td>\n      <td>POL</td>\n    </tr>\n    <tr>\n      <th>4</th>\n      <td>Janda Jakub</td>\n      <td>CZE</td>\n    </tr>\n    <tr>\n      <th>6</th>\n      <td>Morgenstern Thomas</td>\n      <td>AUT</td>\n    </tr>\n    <tr>\n      <th>8</th>\n      <td>Hoellwarth Martin</td>\n      <td>AUT</td>\n    </tr>\n  </tbody>\n</table>\n</div>"
     },
     "execution_count": 86,
     "metadata": {},
     "output_type": "execute_result"
    }
   ],
   "source": [
    "# Drop remaining rows that are not country indexes\n",
    "bad_index = ['WSC', 'WSV', 'CSK', 'WKS', 'FIT', 'LKS', 'G.S', 'KGZ']\n",
    "jumpers_df = jumpers_df.loc[jumpers_df['jumper_country'].apply(lambda x: x not in bad_index)]\n",
    "jumpers_df.head()"
   ],
   "metadata": {
    "collapsed": false
   }
  }
 ],
 "metadata": {
  "kernelspec": {
   "display_name": "Python 3",
   "language": "python",
   "name": "python3"
  },
  "language_info": {
   "codemirror_mode": {
    "name": "ipython",
    "version": 2
   },
   "file_extension": ".py",
   "mimetype": "text/x-python",
   "name": "python",
   "nbconvert_exporter": "python",
   "pygments_lexer": "ipython2",
   "version": "2.7.6"
  }
 },
 "nbformat": 4,
 "nbformat_minor": 0
}
